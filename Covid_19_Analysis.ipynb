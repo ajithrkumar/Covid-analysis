{
  "nbformat": 4,
  "nbformat_minor": 0,
  "metadata": {
    "colab": {
      "name": "Covid-19 Analysis.ipynb",
      "provenance": [],
      "collapsed_sections": []
    },
    "kernelspec": {
      "name": "python3",
      "display_name": "Python 3"
    }
  },
  "cells": [
    {
      "cell_type": "code",
      "metadata": {
        "id": "g_6AFkmD5Orq"
      },
      "source": [
        "# Installs\n",
        "!pip install pycountry_convert \n",
        "!pip install folium\n",
        "!pip install calmap"
      ],
      "execution_count": null,
      "outputs": []
    },
    {
      "cell_type": "code",
      "metadata": {
        "id": "6MGx7vu05ain"
      },
      "source": [
        "import pandas as pd\n",
        "import numpy as np\n",
        "import matplotlib.pyplot as plt\n",
        "from matplotlib import ticker \n",
        "import pycountry_convert as pc\n",
        "import folium\n",
        "import branca\n",
        "from datetime import datetime, timedelta,date\n",
        "from scipy.interpolate import make_interp_spline, BSpline\n",
        "import plotly.express as px\n",
        "import json, requests\n",
        "import calmap\n",
        "import seaborn as sns\n",
        "\n",
        "import seaborn as sns\n",
        "import warnings\n",
        "warnings.filterwarnings('ignore')"
      ],
      "execution_count": 2,
      "outputs": []
    },
    {
      "cell_type": "code",
      "metadata": {
        "id": "KPnCzbIT5l70"
      },
      "source": [
        "# Retriving Dataset        \n",
        "df_confirmed = pd.read_csv('https://raw.githubusercontent.com/CSSEGISandData/COVID-19/master/csse_covid_19_data/csse_covid_19_time_series/time_series_covid19_confirmed_global.csv')\n",
        "df_deaths = pd.read_csv('https://raw.githubusercontent.com/CSSEGISandData/COVID-19/master/csse_covid_19_data/csse_covid_19_time_series/time_series_covid19_deaths_global.csv')\n",
        "\n",
        "# Depricated\n",
        "df = pd.read_csv(\"https://raw.githubusercontent.com/CSSEGISandData/COVID-19/web-data/data/cases_country.csv\")\n",
        "df_table = pd.read_csv(\"https://raw.githubusercontent.com/CSSEGISandData/COVID-19/web-data/data/cases_time.csv\",parse_dates=['Last_Update'])"
      ],
      "execution_count": 3,
      "outputs": []
    },
    {
      "cell_type": "code",
      "metadata": {
        "id": "XmY1lGBc5x1N"
      },
      "source": [
        "df"
      ],
      "execution_count": null,
      "outputs": []
    },
    {
      "cell_type": "code",
      "metadata": {
        "id": "PyUJrUtdV6zx"
      },
      "source": [
        "df_deaths"
      ],
      "execution_count": null,
      "outputs": []
    },
    {
      "cell_type": "code",
      "metadata": {
        "id": "pZoGip315_3F"
      },
      "source": [
        "##Renaming columns from the original data set to understandable and easy to use names\n",
        "df.columns=['Country',\n",
        "                         'LastUpdate',\n",
        "                         'Lat',\n",
        "                         'Long',\n",
        "                         'Confirmed',\n",
        "                         'Deaths',\n",
        "                         'Recovered',\n",
        "                         'Active',\n",
        "                         'IncidentRate',\n",
        "                         'PeopleTested',\n",
        "                         'PeopleHospit',\n",
        "                         'MortalityRate',\n",
        "                         'UID',\n",
        "                         'abr']"
      ],
      "execution_count": 6,
      "outputs": []
    },
    {
      "cell_type": "code",
      "metadata": {
        "id": "w7t-jSpm6Dip"
      },
      "source": [
        "df.columns"
      ],
      "execution_count": null,
      "outputs": []
    },
    {
      "cell_type": "markdown",
      "metadata": {
        "id": "mlM0jPT39pFp"
      },
      "source": [
        "Basic Stats"
      ]
    },
    {
      "cell_type": "code",
      "metadata": {
        "id": "-20Z6DUX6K_T"
      },
      "source": [
        "##Visualize the main statistical features in the data set, for example mean, median, mode, and quartile breakdown of all of the features\n",
        "##in the data set\n",
        "df.describe()"
      ],
      "execution_count": null,
      "outputs": []
    },
    {
      "cell_type": "code",
      "metadata": {
        "id": "T-i7_KID6RIG"
      },
      "source": [
        "##Number of deaths by quartile (25%,50%, and 75%)\n",
        "df.Deaths.quantile([.25,.5,.75])"
      ],
      "execution_count": null,
      "outputs": []
    },
    {
      "cell_type": "code",
      "metadata": {
        "id": "FSvdt0oc6gUi"
      },
      "source": [
        "##Finding the minimum, maximum, and mean value of deaths across the data set\n",
        "df.Deaths.agg(['min','max','mean'])"
      ],
      "execution_count": null,
      "outputs": []
    },
    {
      "cell_type": "code",
      "metadata": {
        "id": "bjtLkxjQ8rVN"
      },
      "source": [
        "##Identifying the correlation number between deaths and patients who recovered\n",
        "df.Deaths.corr(df.Recovered)"
      ],
      "execution_count": null,
      "outputs": []
    },
    {
      "cell_type": "markdown",
      "metadata": {
        "id": "qXhRDl7j9346"
      },
      "source": [
        "Plotting"
      ]
    },
    {
      "cell_type": "code",
      "metadata": {
        "id": "DDZI-KjTDiE6"
      },
      "source": [
        "##Creating a new dataframe without longitude, latitude, and last update data\n",
        "##Setting the index of the new datafram to the country name\n",
        "##Dropping the feature of Country name from the column header\n",
        "df_country_cases = df.copy().drop(['Lat','Long','LastUpdate'],axis=1)\n",
        "df_country_cases.index = df_country_cases[\"Country\"]\n",
        "df_country_cases = df_country_cases.drop(['Country'],axis=1)"
      ],
      "execution_count": 7,
      "outputs": []
    },
    {
      "cell_type": "code",
      "metadata": {
        "id": "w8sSWi4LDmP3"
      },
      "source": [
        "##Creating a bar chart of the top 5 countries based on confirmed cases\n",
        "##Setting the title of the table along with x and y axis labels to clearly show the given data\n",
        "f = plt.figure(figsize=(10,5))\n",
        "f.add_subplot(111)\n",
        "plt.axes(axisbelow=True)\n",
        "plt.barh(df_country_cases.sort_values('Confirmed')[\"Confirmed\"]\n",
        "         .index[-5:],df_country_cases.sort_values('Confirmed')[\"Confirmed\"]\n",
        "         .values[-5:],color='darkcyan')\n",
        "plt.xlabel(\"Confirmed Cases\",fontsize=16)\n",
        "plt.title(\"Top 5 Countries w/ Confirmed Cases\",fontsize=20)\n",
        "plt.grid(alpha=0.3)"
      ],
      "execution_count": null,
      "outputs": []
    },
    {
      "cell_type": "code",
      "metadata": {
        "id": "pDHyZuQjEX32"
      },
      "source": [
        "##Creating a bar chart of the top 5 countries with the most deaths\n",
        "d = plt.figure(figsize=(10,5))\n",
        "d.add_subplot(111)\n",
        "plt.axes(axisbelow=True)\n",
        "plt.barh(df_country_cases.sort_values('Deaths')[\"Deaths\"]\n",
        "         .index[-5:],df_country_cases.sort_values('Deaths')[\"Deaths\"]\n",
        "         .values[-5:],color='darkblue')\n",
        "plt.xlabel(\"Deaths\",fontsize=16)\n",
        "plt.title(\"Top 5 Countries w/ most Deaths\",fontsize=20)\n",
        "plt.grid(alpha=0.3)"
      ],
      "execution_count": null,
      "outputs": []
    },
    {
      "cell_type": "code",
      "metadata": {
        "id": "dX8apQ52FDGd"
      },
      "source": [
        "##Creating a bar chart of the top 5 countries with the most number of active cases\n",
        "a = plt.figure(figsize=(10,5))\n",
        "a.add_subplot(111)\n",
        "plt.axes(axisbelow=True)\n",
        "plt.barh(df_country_cases.sort_values('Active')[\"Active\"]\n",
        "         .index[-5:],df_country_cases.sort_values('Active')[\"Active\"]\n",
        "         .values[-5:],color='darkred')\n",
        "plt.xlabel(\"Active\",fontsize=16)\n",
        "plt.title(\"Top 5 Countries w/ Most Active Cases\",fontsize=20)\n",
        "plt.grid(alpha=0.3)"
      ],
      "execution_count": null,
      "outputs": []
    },
    {
      "cell_type": "code",
      "metadata": {
        "id": "otnK3W50RcOa"
      },
      "source": [
        "##Creating a visual representation by country of all features in the original data set(excluding lat, long, and last update)\n",
        "##Highlighted values are the largest for each feature\n",
        "df_country_cases[\"Mortality Rate (per 100)\"] = np.round(100*df_country_cases[\"Deaths\"]/df_country_cases[\"Confirmed\"],2)\n",
        "df_country_cases.sort_values('Confirmed', ascending= False).style.background_gradient(cmap='Purples',subset=[\"Confirmed\"])\\\n",
        "                        .background_gradient(cmap='Greens',subset=[\"Deaths\"])\\\n",
        "                        .background_gradient(cmap='Reds',subset=[\"Recovered\"])\\\n",
        "                        .background_gradient(cmap='Blues',subset=[\"Active\"])\\\n",
        "                        .background_gradient(cmap='YlOrBr',subset=[\"Mortality Rate (per 100)\"])"
      ],
      "execution_count": null,
      "outputs": []
    },
    {
      "cell_type": "code",
      "metadata": {
        "id": "1aCk9FfBTXNz"
      },
      "source": [
        "df_country_cases.iloc[:,:-1].corr(method='kendall').style.background_gradient(cmap='Blues')"
      ],
      "execution_count": null,
      "outputs": []
    },
    {
      "cell_type": "code",
      "metadata": {
        "id": "Y4w-vJdjWkES"
      },
      "source": [
        "##Replacing Nan values in the location feature with null values\n",
        "df_confirmed= df_confirmed.replace(np.nan,'',regex= True)\n",
        "df_deaths= df_deaths.replace(np.nan,'',regex=True)"
      ],
      "execution_count": 25,
      "outputs": []
    },
    {
      "cell_type": "code",
      "metadata": {
        "id": "xfhCyEw4VnYi"
      },
      "source": [
        "##Creating a world map view where users are able to hover over locations and retrieve Covid-19 data based on region\n",
        "##Some regions are not applicable *working on this*\n",
        "world_map = folium.Map(location=[10,0], tiles=\"cartodbpositron\", zoom_start=2,max_zoom=6,min_zoom=2)\n",
        "for i in range(0,len(df_confirmed)):\n",
        "    folium.Circle(\n",
        "        location=[df_confirmed.iloc[i]['Lat'], df_confirmed.iloc[i]['Long']],\n",
        "        tooltip = \"<h5 style='text-align:center;font-weight: bold'>\"+df_confirmed.iloc[i]['Country/Region']+\"</h5>\"+\n",
        "                    \"<div style='text-align:center;'>\"+str(np.nan_to_num(df_confirmed.iloc[i]['Province/State']))+\"</div>\"+\n",
        "                    \"<hr style='margin:10px;'>\"+\n",
        "                    \"<ul style='color: #444;list-style-type:circle;align-item:left;padding-left:20px;padding-right:20px'>\"+\n",
        "        \"<li>Confirmed: \"+str(df_confirmed.iloc[i,-1])+\"</li>\"+\n",
        "        \"<li>Deaths:   \"+str(df_deaths.iloc[i,-1])+\"</li>\"+\n",
        "        \"<li>Mortality Rate:   \"+str(np.round(df_deaths.iloc[i,-1]/(df_confirmed.iloc[i,-1]+1.00001)*100,2))+\"</li>\"+\n",
        "        \"</ul>\"\n",
        "        ,\n",
        "        radius=(int((np.log(df_confirmed.iloc[i,-1]+1.00001)))+0.2)*50000,\n",
        "        color='# ff6600',\n",
        "        fill_color='#ff8533',\n",
        "        fill=True).add_to(world_map)\n",
        "\n",
        "world_map\n"
      ],
      "execution_count": null,
      "outputs": []
    },
    {
      "cell_type": "markdown",
      "metadata": {
        "id": "yA4NvSQIaEWB"
      },
      "source": [
        "Filtering"
      ]
    },
    {
      "cell_type": "code",
      "metadata": {
        "id": "zO1cZIcBZpp0"
      },
      "source": [
        "##Filtering the data by number of deaths greater than a certain value\n",
        "df[df.Deaths >= 20000]"
      ],
      "execution_count": null,
      "outputs": []
    },
    {
      "cell_type": "code",
      "metadata": {
        "id": "FmaIe8RiaNWN"
      },
      "source": [
        "##Filtering the data by the number of confimed cases greater than a certain value\n",
        "df[df.Confirmed >=5000000 ]"
      ],
      "execution_count": null,
      "outputs": []
    },
    {
      "cell_type": "code",
      "metadata": {
        "id": "6auyg8q4aXM8"
      },
      "source": [
        "##Combining filters to create a conditional statement satisfying both commands\n",
        "df[(df.Deaths >= 20000) & (df.Confirmed >=5000000)]"
      ],
      "execution_count": null,
      "outputs": []
    },
    {
      "cell_type": "markdown",
      "metadata": {
        "id": "x-xmZL5vd2G8"
      },
      "source": [
        "Grouping using Groupby\n"
      ]
    },
    {
      "cell_type": "code",
      "metadata": {
        "id": "_pThiqx2gvaY"
      },
      "source": [
        "df_covid19 =df\n",
        "df_confirmed = df_confirmed.rename(columns={\"Province/State\":\"state\",\"Country/Region\": \"country\"})\n",
        "df_deaths = df_deaths.rename(columns={\"Province/State\":\"state\",\"Country/Region\": \"country\"})\n",
        "df_covid19 = df_covid19.rename(columns={\"Country\": \"country\"})\n",
        "df_covid19[\"Active\"] = df_covid19[\"Confirmed\"]-df_covid19[\"Recovered\"]-df_covid19[\"Deaths\"]\n",
        "# df_recovered = df_recovered.rename(columns={\"Province/State\":\"state\",\"Country/Region\": \"country\"})"
      ],
      "execution_count": 96,
      "outputs": []
    },
    {
      "cell_type": "code",
      "metadata": {
        "colab": {
          "base_uri": "https://localhost:8080/"
        },
        "id": "jBpHA9ybhZPz",
        "outputId": "01ef7a8e-d985-4132-af81-38b6aeba381e"
      },
      "source": [
        "df.columns"
      ],
      "execution_count": 94,
      "outputs": [
        {
          "output_type": "execute_result",
          "data": {
            "text/plain": [
              "Index(['Country', 'LastUpdate', 'Lat', 'Long', 'Confirmed', 'Deaths',\n",
              "       'Recovered', 'Active', 'IncidentRate', 'PeopleTested', 'PeopleHospit',\n",
              "       'MortalityRate', 'UID', 'abr'],\n",
              "      dtype='object')"
            ]
          },
          "metadata": {
            "tags": []
          },
          "execution_count": 94
        }
      ]
    },
    {
      "cell_type": "code",
      "metadata": {
        "id": "CQMDCqzgfzCr"
      },
      "source": [
        "# Changing the conuntry names as required by pycountry_convert Lib\n",
        "df_confirmed.loc[df_confirmed['country'] == \"US\", \"country\"] = \"USA\"\n",
        "df_deaths.loc[df_deaths['country'] == \"US\", \"country\"] = \"USA\"\n",
        "df_covid19.loc[df_covid19['country'] == \"US\", \"country\"] = \"USA\"\n",
        "df_table.loc[df_table['Country_Region'] == \"US\", \"Country_Region\"] = \"USA\"\n",
        "# df_recovered.loc[df_recovered['country'] == \"US\", \"country\"] = \"USA\"\n",
        "\n",
        "\n",
        "df_confirmed.loc[df_confirmed['country'] == 'Korea, South', \"country\"] = 'South Korea'\n",
        "df_deaths.loc[df_deaths['country'] == 'Korea, South', \"country\"] = 'South Korea'\n",
        "df_covid19.loc[df_covid19['country'] == \"Korea, South\", \"country\"] = \"South Korea\"\n",
        "df_table.loc[df_table['Country_Region'] == \"Korea, South\", \"Country_Region\"] = \"South Korea\"\n",
        "# df_recovered.loc[df_recovered['country'] == 'Korea, South', \"country\"] = 'South Korea'\n",
        "\n",
        "df_confirmed.loc[df_confirmed['country'] == 'Taiwan*', \"country\"] = 'Taiwan'\n",
        "df_deaths.loc[df_deaths['country'] == 'Taiwan*', \"country\"] = 'Taiwan'\n",
        "df_covid19.loc[df_covid19['country'] == \"Taiwan*\", \"country\"] = \"Taiwan\"\n",
        "df_table.loc[df_table['Country_Region'] == \"Taiwan*\", \"Country_Region\"] = \"Taiwan\"\n",
        "# df_recovered.loc[df_recovered['country'] == 'Taiwan*', \"country\"] = 'Taiwan'\n",
        "\n",
        "df_confirmed.loc[df_confirmed['country'] == 'Congo (Kinshasa)', \"country\"] = 'Democratic Republic of the Congo'\n",
        "df_deaths.loc[df_deaths['country'] == 'Congo (Kinshasa)', \"country\"] = 'Democratic Republic of the Congo'\n",
        "df_covid19.loc[df_covid19['country'] == \"Congo (Kinshasa)\", \"country\"] = \"Democratic Republic of the Congo\"\n",
        "df_table.loc[df_table['Country_Region'] == \"Congo (Kinshasa)\", \"Country_Region\"] = \"Democratic Republic of the Congo\"\n",
        "# df_recovered.loc[df_recovered['country'] == 'Congo (Kinshasa)', \"country\"] = 'Democratic Republic of the Congo'\n",
        "\n",
        "df_confirmed.loc[df_confirmed['country'] == \"Cote d'Ivoire\", \"country\"] = \"Côte d'Ivoire\"\n",
        "df_deaths.loc[df_deaths['country'] == \"Cote d'Ivoire\", \"country\"] = \"Côte d'Ivoire\"\n",
        "df_covid19.loc[df_covid19['country'] == \"Cote d'Ivoire\", \"country\"] = \"Côte d'Ivoire\"\n",
        "df_table.loc[df_table['Country_Region'] == \"Cote d'Ivoire\", \"Country_Region\"] = \"Côte d'Ivoire\"\n",
        "# df_recovered.loc[df_recovered['country'] == \"Cote d'Ivoire\", \"country\"] = \"Côte d'Ivoire\"\n",
        "\n",
        "df_confirmed.loc[df_confirmed['country'] == \"Reunion\", \"country\"] = \"Réunion\"\n",
        "df_deaths.loc[df_deaths['country'] == \"Reunion\", \"country\"] = \"Réunion\"\n",
        "df_covid19.loc[df_covid19['country'] == \"Reunion\", \"country\"] = \"Réunion\"\n",
        "df_table.loc[df_table['Country_Region'] == \"Reunion\", \"Country_Region\"] = \"Réunion\"\n",
        "# df_recovered.loc[df_recovered['country'] == \"Reunion\", \"country\"] = \"Réunion\"\n",
        "\n",
        "df_confirmed.loc[df_confirmed['country'] == 'Congo (Brazzaville)', \"country\"] = 'Republic of the Congo'\n",
        "df_deaths.loc[df_deaths['country'] == 'Congo (Brazzaville)', \"country\"] = 'Republic of the Congo'\n",
        "df_covid19.loc[df_covid19['country'] == \"Congo (Brazzaville)\", \"country\"] = \"Republic of the Congo\"\n",
        "df_table.loc[df_table['Country_Region'] == \"Congo (Brazzaville)\", \"Country_Region\"] = \"Republic of the Congo\"\n",
        "# df_recovered.loc[df_recovered['country'] == 'Congo (Brazzaville)', \"country\"] = 'Republic of the Congo'\n",
        "\n",
        "df_confirmed.loc[df_confirmed['country'] == 'Bahamas, The', \"country\"] = 'Bahamas'\n",
        "df_deaths.loc[df_deaths['country'] == 'Bahamas, The', \"country\"] = 'Bahamas'\n",
        "df_covid19.loc[df_covid19['country'] == \"Bahamas, The\", \"country\"] = \"Bahamas\"\n",
        "df_table.loc[df_table['Country_Region'] == \"Bahamas, The\", \"Country_Region\"] = \"Bahamas\"\n",
        "# df_recovered.loc[df_recovered['country'] == 'Bahamas, The', \"country\"] = 'Bahamas'\n",
        "\n",
        "df_confirmed.loc[df_confirmed['country'] == 'Gambia, The', \"country\"] = 'Gambia'\n",
        "df_deaths.loc[df_deaths['country'] == 'Gambia, The', \"country\"] = 'Gambia'\n",
        "df_covid19.loc[df_covid19['country'] == \"Gambia, The\", \"country\"] = \"Gambia\"\n",
        "df_table.loc[df_table['Country_Region'] == \"Gambia\", \"Country_Region\"] = \"Gambia\"\n",
        "# df_recovered.loc[df_recovered['country'] == 'Gambia, The', \"country\"] = 'Gambia'\n",
        "\n",
        "# getting all countries\n",
        "countries = np.asarray(df_confirmed[\"country\"])\n",
        "countries1 = np.asarray(df_covid19[\"country\"])\n",
        "# Continent_code to Continent_names\n",
        "continents = {\n",
        "    'NA': 'North America',\n",
        "    'SA': 'South America', \n",
        "    'AS': 'Asia',\n",
        "    'OC': 'Australia',\n",
        "    'AF': 'Africa',\n",
        "    'EU' : 'Europe',\n",
        "    'na' : 'Others'\n",
        "}\n",
        "\n",
        "# Defininng Function for getting continent code for country.\n",
        "def country_to_continent_code(country):\n",
        "    try:\n",
        "        return pc.country_alpha2_to_continent_code(pc.country_name_to_country_alpha2(country))\n",
        "    except :\n",
        "        return 'na'\n",
        "\n",
        "#Collecting Continent Information\n",
        "df_confirmed.insert(2,\"continent\", [continents[country_to_continent_code(country)] for country in countries[:]])\n",
        "df_deaths.insert(2,\"continent\",  [continents[country_to_continent_code(country)] for country in countries[:]])\n",
        "df_covid19.insert(1,\"continent\",  [continents[country_to_continent_code(country)] for country in countries1[:]])\n",
        "df_table.insert(1,\"continent\",  [continents[country_to_continent_code(country)] for country in df_table[\"Country_Region\"].values])\n",
        "# df_recovered.insert(2,\"continent\",  [continents[country_to_continent_code(country)] for country in countries[:]] )   "
      ],
      "execution_count": 97,
      "outputs": []
    },
    {
      "cell_type": "code",
      "metadata": {
        "id": "ioA8GqRJiFTX"
      },
      "source": [
        "df_continents_cases = df_covid19.copy().drop(['Lat','Long','country','LastUpdate'],axis =1)\n",
        "df_continents_cases = df_continents_cases.groupby([\"continent\"]).sum()"
      ],
      "execution_count": 101,
      "outputs": []
    },
    {
      "cell_type": "code",
      "metadata": {
        "colab": {
          "base_uri": "https://localhost:8080/",
          "height": 207
        },
        "id": "nvQV2Z1XinD9",
        "outputId": "b01977ea-a2c9-4023-dc04-054d012b60f5"
      },
      "source": [
        "df_continents_cases[\"Mortality Rate (per 100)\"] = np.round(100*df_continents_cases[\"Deaths\"]/df_continents_cases[\"Confirmed\"],2)\n",
        "df_continents_cases.style.background_gradient(cmap='Blues',subset=[\"Confirmed\"])\\\n",
        "                        .background_gradient(cmap='Reds',subset=[\"Deaths\"])\\\n",
        "                        .background_gradient(cmap='Greens',subset=[\"Recovered\"])\\\n",
        "                        .background_gradient(cmap='Purples',subset=[\"Active\"])\\\n",
        "                        .background_gradient(cmap='YlOrBr',subset=[\"Mortality Rate (per 100)\"])"
      ],
      "execution_count": 102,
      "outputs": [
        {
          "output_type": "execute_result",
          "data": {
            "text/html": [
              "<style  type=\"text/css\" >\n",
              "#T_74c9c81c_5211_11eb_a7f6_0242ac1c0002row0_col0{\n",
              "            background-color:  #e0ecf8;\n",
              "            color:  #000000;\n",
              "        }#T_74c9c81c_5211_11eb_a7f6_0242ac1c0002row0_col1{\n",
              "            background-color:  #fee1d3;\n",
              "            color:  #000000;\n",
              "        }#T_74c9c81c_5211_11eb_a7f6_0242ac1c0002row0_col2,#T_74c9c81c_5211_11eb_a7f6_0242ac1c0002row4_col2{\n",
              "            background-color:  #e5f5e1;\n",
              "            color:  #000000;\n",
              "        }#T_74c9c81c_5211_11eb_a7f6_0242ac1c0002row0_col3{\n",
              "            background-color:  #f8f7fa;\n",
              "            color:  #000000;\n",
              "        }#T_74c9c81c_5211_11eb_a7f6_0242ac1c0002row0_col9{\n",
              "            background-color:  #f5851f;\n",
              "            color:  #000000;\n",
              "        }#T_74c9c81c_5211_11eb_a7f6_0242ac1c0002row1_col0{\n",
              "            background-color:  #125ea6;\n",
              "            color:  #f1f1f1;\n",
              "        }#T_74c9c81c_5211_11eb_a7f6_0242ac1c0002row1_col1{\n",
              "            background-color:  #f34935;\n",
              "            color:  #000000;\n",
              "        }#T_74c9c81c_5211_11eb_a7f6_0242ac1c0002row1_col2{\n",
              "            background-color:  #00441b;\n",
              "            color:  #f1f1f1;\n",
              "        }#T_74c9c81c_5211_11eb_a7f6_0242ac1c0002row1_col3{\n",
              "            background-color:  #f1f0f6;\n",
              "            color:  #000000;\n",
              "        }#T_74c9c81c_5211_11eb_a7f6_0242ac1c0002row1_col9{\n",
              "            background-color:  #ffffe5;\n",
              "            color:  #000000;\n",
              "        }#T_74c9c81c_5211_11eb_a7f6_0242ac1c0002row2_col0{\n",
              "            background-color:  #f7fbff;\n",
              "            color:  #000000;\n",
              "        }#T_74c9c81c_5211_11eb_a7f6_0242ac1c0002row2_col1{\n",
              "            background-color:  #fff5f0;\n",
              "            color:  #000000;\n",
              "        }#T_74c9c81c_5211_11eb_a7f6_0242ac1c0002row2_col2{\n",
              "            background-color:  #f7fcf5;\n",
              "            color:  #000000;\n",
              "        }#T_74c9c81c_5211_11eb_a7f6_0242ac1c0002row2_col3,#T_74c9c81c_5211_11eb_a7f6_0242ac1c0002row5_col3{\n",
              "            background-color:  #fcfbfd;\n",
              "            color:  #000000;\n",
              "        }#T_74c9c81c_5211_11eb_a7f6_0242ac1c0002row2_col9{\n",
              "            background-color:  #662506;\n",
              "            color:  #f1f1f1;\n",
              "        }#T_74c9c81c_5211_11eb_a7f6_0242ac1c0002row3_col0{\n",
              "            background-color:  #08306b;\n",
              "            color:  #f1f1f1;\n",
              "        }#T_74c9c81c_5211_11eb_a7f6_0242ac1c0002row3_col1{\n",
              "            background-color:  #67000d;\n",
              "            color:  #f1f1f1;\n",
              "        }#T_74c9c81c_5211_11eb_a7f6_0242ac1c0002row3_col2{\n",
              "            background-color:  #42ab5d;\n",
              "            color:  #000000;\n",
              "        }#T_74c9c81c_5211_11eb_a7f6_0242ac1c0002row3_col3{\n",
              "            background-color:  #3f007d;\n",
              "            color:  #f1f1f1;\n",
              "        }#T_74c9c81c_5211_11eb_a7f6_0242ac1c0002row3_col9{\n",
              "            background-color:  #fea231;\n",
              "            color:  #000000;\n",
              "        }#T_74c9c81c_5211_11eb_a7f6_0242ac1c0002row4_col0{\n",
              "            background-color:  #083674;\n",
              "            color:  #f1f1f1;\n",
              "        }#T_74c9c81c_5211_11eb_a7f6_0242ac1c0002row4_col1{\n",
              "            background-color:  #8c0912;\n",
              "            color:  #f1f1f1;\n",
              "        }#T_74c9c81c_5211_11eb_a7f6_0242ac1c0002row4_col3{\n",
              "            background-color:  #f7f6fa;\n",
              "            color:  #000000;\n",
              "        }#T_74c9c81c_5211_11eb_a7f6_0242ac1c0002row4_col9{\n",
              "            background-color:  #febf4b;\n",
              "            color:  #000000;\n",
              "        }#T_74c9c81c_5211_11eb_a7f6_0242ac1c0002row5_col0{\n",
              "            background-color:  #f5fafe;\n",
              "            color:  #000000;\n",
              "        }#T_74c9c81c_5211_11eb_a7f6_0242ac1c0002row5_col1{\n",
              "            background-color:  #fff4ee;\n",
              "            color:  #000000;\n",
              "        }#T_74c9c81c_5211_11eb_a7f6_0242ac1c0002row5_col2{\n",
              "            background-color:  #f5fbf3;\n",
              "            color:  #000000;\n",
              "        }#T_74c9c81c_5211_11eb_a7f6_0242ac1c0002row5_col9{\n",
              "            background-color:  #fff9c6;\n",
              "            color:  #000000;\n",
              "        }#T_74c9c81c_5211_11eb_a7f6_0242ac1c0002row6_col0{\n",
              "            background-color:  #5fa6d1;\n",
              "            color:  #000000;\n",
              "        }#T_74c9c81c_5211_11eb_a7f6_0242ac1c0002row6_col1{\n",
              "            background-color:  #eb372a;\n",
              "            color:  #f1f1f1;\n",
              "        }#T_74c9c81c_5211_11eb_a7f6_0242ac1c0002row6_col2{\n",
              "            background-color:  #3fa95c;\n",
              "            color:  #000000;\n",
              "        }#T_74c9c81c_5211_11eb_a7f6_0242ac1c0002row6_col3{\n",
              "            background-color:  #f3f1f7;\n",
              "            color:  #000000;\n",
              "        }#T_74c9c81c_5211_11eb_a7f6_0242ac1c0002row6_col9{\n",
              "            background-color:  #b94303;\n",
              "            color:  #f1f1f1;\n",
              "        }</style><table id=\"T_74c9c81c_5211_11eb_a7f6_0242ac1c0002\" ><thead>    <tr>        <th class=\"blank level0\" ></th>        <th class=\"col_heading level0 col0\" >Confirmed</th>        <th class=\"col_heading level0 col1\" >Deaths</th>        <th class=\"col_heading level0 col2\" >Recovered</th>        <th class=\"col_heading level0 col3\" >Active</th>        <th class=\"col_heading level0 col4\" >IncidentRate</th>        <th class=\"col_heading level0 col5\" >PeopleTested</th>        <th class=\"col_heading level0 col6\" >PeopleHospit</th>        <th class=\"col_heading level0 col7\" >MortalityRate</th>        <th class=\"col_heading level0 col8\" >UID</th>        <th class=\"col_heading level0 col9\" >Mortality Rate (per 100)</th>    </tr>    <tr>        <th class=\"index_name level0\" >continent</th>        <th class=\"blank\" ></th>        <th class=\"blank\" ></th>        <th class=\"blank\" ></th>        <th class=\"blank\" ></th>        <th class=\"blank\" ></th>        <th class=\"blank\" ></th>        <th class=\"blank\" ></th>        <th class=\"blank\" ></th>        <th class=\"blank\" ></th>        <th class=\"blank\" ></th>    </tr></thead><tbody>\n",
              "                <tr>\n",
              "                        <th id=\"T_74c9c81c_5211_11eb_a7f6_0242ac1c0002level0_row0\" class=\"row_heading level0 row0\" >Africa</th>\n",
              "                        <td id=\"T_74c9c81c_5211_11eb_a7f6_0242ac1c0002row0_col0\" class=\"data row0 col0\" >2983144.000000</td>\n",
              "                        <td id=\"T_74c9c81c_5211_11eb_a7f6_0242ac1c0002row0_col1\" class=\"data row0 col1\" >71382.000000</td>\n",
              "                        <td id=\"T_74c9c81c_5211_11eb_a7f6_0242ac1c0002row0_col2\" class=\"data row0 col2\" >2431184.000000</td>\n",
              "                        <td id=\"T_74c9c81c_5211_11eb_a7f6_0242ac1c0002row0_col3\" class=\"data row0 col3\" >480578.000000</td>\n",
              "                        <td id=\"T_74c9c81c_5211_11eb_a7f6_0242ac1c0002row0_col4\" class=\"data row0 col4\" >16805.248759</td>\n",
              "                        <td id=\"T_74c9c81c_5211_11eb_a7f6_0242ac1c0002row0_col5\" class=\"data row0 col5\" >0.000000</td>\n",
              "                        <td id=\"T_74c9c81c_5211_11eb_a7f6_0242ac1c0002row0_col6\" class=\"data row0 col6\" >0.000000</td>\n",
              "                        <td id=\"T_74c9c81c_5211_11eb_a7f6_0242ac1c0002row0_col7\" class=\"data row0 col7\" >108.005273</td>\n",
              "                        <td id=\"T_74c9c81c_5211_11eb_a7f6_0242ac1c0002row0_col8\" class=\"data row0 col8\" >24764</td>\n",
              "                        <td id=\"T_74c9c81c_5211_11eb_a7f6_0242ac1c0002row0_col9\" class=\"data row0 col9\" >2.390000</td>\n",
              "            </tr>\n",
              "            <tr>\n",
              "                        <th id=\"T_74c9c81c_5211_11eb_a7f6_0242ac1c0002level0_row1\" class=\"row_heading level0 row1\" >Asia</th>\n",
              "                        <td id=\"T_74c9c81c_5211_11eb_a7f6_0242ac1c0002row1_col0\" class=\"data row1 col0\" >21075798.000000</td>\n",
              "                        <td id=\"T_74c9c81c_5211_11eb_a7f6_0242ac1c0002row1_col1\" class=\"data row1 col1\" >342165.000000</td>\n",
              "                        <td id=\"T_74c9c81c_5211_11eb_a7f6_0242ac1c0002row1_col2\" class=\"data row1 col2\" >19576149.000000</td>\n",
              "                        <td id=\"T_74c9c81c_5211_11eb_a7f6_0242ac1c0002row1_col3\" class=\"data row1 col3\" >1157484.000000</td>\n",
              "                        <td id=\"T_74c9c81c_5211_11eb_a7f6_0242ac1c0002row1_col4\" class=\"data row1 col4\" >63833.366089</td>\n",
              "                        <td id=\"T_74c9c81c_5211_11eb_a7f6_0242ac1c0002row1_col5\" class=\"data row1 col5\" >0.000000</td>\n",
              "                        <td id=\"T_74c9c81c_5211_11eb_a7f6_0242ac1c0002row1_col6\" class=\"data row1 col6\" >0.000000</td>\n",
              "                        <td id=\"T_74c9c81c_5211_11eb_a7f6_0242ac1c0002row1_col7\" class=\"data row1 col7\" >89.023802</td>\n",
              "                        <td id=\"T_74c9c81c_5211_11eb_a7f6_0242ac1c0002row1_col8\" class=\"data row1 col8\" >18454</td>\n",
              "                        <td id=\"T_74c9c81c_5211_11eb_a7f6_0242ac1c0002row1_col9\" class=\"data row1 col9\" >1.620000</td>\n",
              "            </tr>\n",
              "            <tr>\n",
              "                        <th id=\"T_74c9c81c_5211_11eb_a7f6_0242ac1c0002level0_row2\" class=\"row_heading level0 row2\" >Australia</th>\n",
              "                        <td id=\"T_74c9c81c_5211_11eb_a7f6_0242ac1c0002row2_col0\" class=\"data row2 col0\" >31636.000000</td>\n",
              "                        <td id=\"T_74c9c81c_5211_11eb_a7f6_0242ac1c0002row2_col1\" class=\"data row2 col1\" >945.000000</td>\n",
              "                        <td id=\"T_74c9c81c_5211_11eb_a7f6_0242ac1c0002row2_col2\" class=\"data row2 col2\" >28734.000000</td>\n",
              "                        <td id=\"T_74c9c81c_5211_11eb_a7f6_0242ac1c0002row2_col3\" class=\"data row2 col3\" >1957.000000</td>\n",
              "                        <td id=\"T_74c9c81c_5211_11eb_a7f6_0242ac1c0002row2_col4\" class=\"data row2 col4\" >183.253305</td>\n",
              "                        <td id=\"T_74c9c81c_5211_11eb_a7f6_0242ac1c0002row2_col5\" class=\"data row2 col5\" >0.000000</td>\n",
              "                        <td id=\"T_74c9c81c_5211_11eb_a7f6_0242ac1c0002row2_col6\" class=\"data row2 col6\" >0.000000</td>\n",
              "                        <td id=\"T_74c9c81c_5211_11eb_a7f6_0242ac1c0002row2_col7\" class=\"data row2 col7\" >9.224025</td>\n",
              "                        <td id=\"T_74c9c81c_5211_11eb_a7f6_0242ac1c0002row2_col8\" class=\"data row2 col8\" >3534</td>\n",
              "                        <td id=\"T_74c9c81c_5211_11eb_a7f6_0242ac1c0002row2_col9\" class=\"data row2 col9\" >2.990000</td>\n",
              "            </tr>\n",
              "            <tr>\n",
              "                        <th id=\"T_74c9c81c_5211_11eb_a7f6_0242ac1c0002level0_row3\" class=\"row_heading level0 row3\" >Europe</th>\n",
              "                        <td id=\"T_74c9c81c_5211_11eb_a7f6_0242ac1c0002row3_col0\" class=\"data row3 col0\" >25592350.000000</td>\n",
              "                        <td id=\"T_74c9c81c_5211_11eb_a7f6_0242ac1c0002row3_col1\" class=\"data row3 col1\" >581005.000000</td>\n",
              "                        <td id=\"T_74c9c81c_5211_11eb_a7f6_0242ac1c0002row3_col2\" class=\"data row3 col2\" >12238107.000000</td>\n",
              "                        <td id=\"T_74c9c81c_5211_11eb_a7f6_0242ac1c0002row3_col3\" class=\"data row3 col3\" >11301869.000000</td>\n",
              "                        <td id=\"T_74c9c81c_5211_11eb_a7f6_0242ac1c0002row3_col4\" class=\"data row3 col4\" >178008.478225</td>\n",
              "                        <td id=\"T_74c9c81c_5211_11eb_a7f6_0242ac1c0002row3_col5\" class=\"data row3 col5\" >0.000000</td>\n",
              "                        <td id=\"T_74c9c81c_5211_11eb_a7f6_0242ac1c0002row3_col6\" class=\"data row3 col6\" >0.000000</td>\n",
              "                        <td id=\"T_74c9c81c_5211_11eb_a7f6_0242ac1c0002row3_col7\" class=\"data row3 col7\" >82.470634</td>\n",
              "                        <td id=\"T_74c9c81c_5211_11eb_a7f6_0242ac1c0002row3_col8\" class=\"data row3 col8\" >18538</td>\n",
              "                        <td id=\"T_74c9c81c_5211_11eb_a7f6_0242ac1c0002row3_col9\" class=\"data row3 col9\" >2.270000</td>\n",
              "            </tr>\n",
              "            <tr>\n",
              "                        <th id=\"T_74c9c81c_5211_11eb_a7f6_0242ac1c0002level0_row4\" class=\"row_heading level0 row4\" >North America</th>\n",
              "                        <td id=\"T_74c9c81c_5211_11eb_a7f6_0242ac1c0002row4_col0\" class=\"data row4 col0\" >24959448.000000</td>\n",
              "                        <td id=\"T_74c9c81c_5211_11eb_a7f6_0242ac1c0002row4_col1\" class=\"data row4 col1\" >535774.000000</td>\n",
              "                        <td id=\"T_74c9c81c_5211_11eb_a7f6_0242ac1c0002row4_col2\" class=\"data row4 col2\" >2449555.000000</td>\n",
              "                        <td id=\"T_74c9c81c_5211_11eb_a7f6_0242ac1c0002row4_col3\" class=\"data row4 col3\" >534124.000000</td>\n",
              "                        <td id=\"T_74c9c81c_5211_11eb_a7f6_0242ac1c0002row4_col4\" class=\"data row4 col4\" >30850.949559</td>\n",
              "                        <td id=\"T_74c9c81c_5211_11eb_a7f6_0242ac1c0002row4_col5\" class=\"data row4 col5\" >0.000000</td>\n",
              "                        <td id=\"T_74c9c81c_5211_11eb_a7f6_0242ac1c0002row4_col6\" class=\"data row4 col6\" >0.000000</td>\n",
              "                        <td id=\"T_74c9c81c_5211_11eb_a7f6_0242ac1c0002row4_col7\" class=\"data row4 col7\" >46.196163</td>\n",
              "                        <td id=\"T_74c9c81c_5211_11eb_a7f6_0242ac1c0002row4_col8\" class=\"data row4 col8\" >8292</td>\n",
              "                        <td id=\"T_74c9c81c_5211_11eb_a7f6_0242ac1c0002row4_col9\" class=\"data row4 col9\" >2.150000</td>\n",
              "            </tr>\n",
              "            <tr>\n",
              "                        <th id=\"T_74c9c81c_5211_11eb_a7f6_0242ac1c0002level0_row5\" class=\"row_heading level0 row5\" >Others</th>\n",
              "                        <td id=\"T_74c9c81c_5211_11eb_a7f6_0242ac1c0002row5_col0\" class=\"data row5 col0\" >329618.000000</td>\n",
              "                        <td id=\"T_74c9c81c_5211_11eb_a7f6_0242ac1c0002row5_col1\" class=\"data row5 col1\" >5754.000000</td>\n",
              "                        <td id=\"T_74c9c81c_5211_11eb_a7f6_0242ac1c0002row5_col2\" class=\"data row5 col2\" >287539.000000</td>\n",
              "                        <td id=\"T_74c9c81c_5211_11eb_a7f6_0242ac1c0002row5_col3\" class=\"data row5 col3\" >36325.000000</td>\n",
              "                        <td id=\"T_74c9c81c_5211_11eb_a7f6_0242ac1c0002row5_col4\" class=\"data row5 col4\" >9384.716089</td>\n",
              "                        <td id=\"T_74c9c81c_5211_11eb_a7f6_0242ac1c0002row5_col5\" class=\"data row5 col5\" >0.000000</td>\n",
              "                        <td id=\"T_74c9c81c_5211_11eb_a7f6_0242ac1c0002row5_col6\" class=\"data row5 col6\" >0.000000</td>\n",
              "                        <td id=\"T_74c9c81c_5211_11eb_a7f6_0242ac1c0002row5_col7\" class=\"data row5 col7\" >29.855385</td>\n",
              "                        <td id=\"T_74c9c81c_5211_11eb_a7f6_0242ac1c0002row5_col8\" class=\"data row5 col8\" >20611</td>\n",
              "                        <td id=\"T_74c9c81c_5211_11eb_a7f6_0242ac1c0002row5_col9\" class=\"data row5 col9\" >1.750000</td>\n",
              "            </tr>\n",
              "            <tr>\n",
              "                        <th id=\"T_74c9c81c_5211_11eb_a7f6_0242ac1c0002level0_row6\" class=\"row_heading level0 row6\" >South America</th>\n",
              "                        <td id=\"T_74c9c81c_5211_11eb_a7f6_0242ac1c0002row6_col0\" class=\"data row6 col0\" >13715889.000000</td>\n",
              "                        <td id=\"T_74c9c81c_5211_11eb_a7f6_0242ac1c0002row6_col1\" class=\"data row6 col1\" >372351.000000</td>\n",
              "                        <td id=\"T_74c9c81c_5211_11eb_a7f6_0242ac1c0002row6_col2\" class=\"data row6 col2\" >12331993.000000</td>\n",
              "                        <td id=\"T_74c9c81c_5211_11eb_a7f6_0242ac1c0002row6_col3\" class=\"data row6 col3\" >1011545.000000</td>\n",
              "                        <td id=\"T_74c9c81c_5211_11eb_a7f6_0242ac1c0002row6_col4\" class=\"data row6 col4\" >24683.334133</td>\n",
              "                        <td id=\"T_74c9c81c_5211_11eb_a7f6_0242ac1c0002row6_col5\" class=\"data row6 col5\" >0.000000</td>\n",
              "                        <td id=\"T_74c9c81c_5211_11eb_a7f6_0242ac1c0002row6_col6\" class=\"data row6 col6\" >0.000000</td>\n",
              "                        <td id=\"T_74c9c81c_5211_11eb_a7f6_0242ac1c0002row6_col7\" class=\"data row6 col7\" >34.554191</td>\n",
              "                        <td id=\"T_74c9c81c_5211_11eb_a7f6_0242ac1c0002row6_col8\" class=\"data row6 col8\" >4708</td>\n",
              "                        <td id=\"T_74c9c81c_5211_11eb_a7f6_0242ac1c0002row6_col9\" class=\"data row6 col9\" >2.710000</td>\n",
              "            </tr>\n",
              "    </tbody></table>"
            ],
            "text/plain": [
              "<pandas.io.formats.style.Styler at 0x7f012dcaecf8>"
            ]
          },
          "metadata": {
            "tags": []
          },
          "execution_count": 102
        }
      ]
    }
  ]
}